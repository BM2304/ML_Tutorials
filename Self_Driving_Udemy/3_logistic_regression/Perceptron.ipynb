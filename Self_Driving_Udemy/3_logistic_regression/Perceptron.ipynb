{
 "cells": [
  {
   "cell_type": "code",
   "execution_count": 14,
   "metadata": {
    "collapsed": true
   },
   "outputs": [],
   "source": [
    "import numpy as np\n",
    "import matplotlib.pyplot as plt\n",
    "\n",
    "def draw(x1, x2):\n",
    "    ln = plt.plot(x1, x2)\n",
    "\n",
    "def sigmoid(score):\n",
    "    return 1/(1 + np.exp(-score))\n",
    "\n",
    "def calculate_error(line_parameters, points, y):\n",
    "    m = points.shape[0]\n",
    "    p = sigmoid(points*line_parameters)\n",
    "    #print(p)\n",
    "    cross_entropy = -(1/m)*(np.log(p).T * y + np.log(1-p).T*(1-y))\n",
    "    return cross_entropy\n",
    "\n",
    "def gradient_decent(line_parameters, points, y, alpha):\n",
    "    m = points.shape[0]\n",
    "    for i in range(2000):\n",
    "        p = sigmoid(points*line_parameters)\n",
    "        gradient = (points.T * (p-y)) *(alpha/m)\n",
    "        line_parameters -= gradient\n",
    "        w1 = line_parameters.item(0)\n",
    "        w2 = line_parameters.item(1)\n",
    "        b = line_parameters.item(2)\n",
    "        x1 = np.array([points[:, 0].min(), points[:, 0].max()])\n",
    "        x2 = -b / w2 + x1 * (- w1 / w2)\n",
    "    draw(x1, x2)\n",
    "        \n",
    "\n",
    "n_pts = 100\n",
    "np.random.seed(0) # to get the same random distribution\n",
    "bias = np.ones(n_pts)\n",
    "top_region= np.array([np.random.normal(10, 2, n_pts), np.random.normal(12, 2, n_pts), bias]).T\n",
    "bottom_region = np.array([np.random.normal(5, 2, n_pts), np.random.normal(6, 2, n_pts), bias]).T\n",
    "all_points = np.vstack((top_region, bottom_region))\n",
    "line_parameters = np.matrix([np.zeros(3)]).T\n",
    "# x1 = np.array([bottom_region[:, 0].min(), top_region[:, 0].max()])\n",
    "# w1x1 * w2x2 + b = 0\n",
    "# x2 = -b / w2 + x1 * (- w1 / w2)\n",
    "\n",
    "print(x1, x2)\n",
    "print(all_points.shape)\n",
    "print(line_parameters.shape)\n",
    "\n",
    "#print(all_points)\n",
    "y = np.array([np.zeros(n_pts), np.ones(n_pts)]).reshape(n_pts*2, 1)\n",
    "print(y)\n",
    "\n",
    "_, ax = plt.subplots(figsize=(4, 4))\n",
    "ax.scatter(top_region[:, 0], top_region[:, 1], color = 'r')\n",
    "ax.scatter(bottom_region[:, 0], bottom_region[:, 1], color = 'b')\n",
    "gradient_decent(line_parameters, all_points, y, 0.06)\n",
    "plt.show()\n",
    "\n",
    "print((calculate_error(line_parameters, all_points, y)))"
   ]
  },
  {
   "cell_type": "code",
   "execution_count": null,
   "metadata": {
    "collapsed": true
   },
   "outputs": [],
   "source": []
  }
 ],
 "metadata": {
  "kernelspec": {
   "display_name": "Python 3",
   "language": "python",
   "name": "python3"
  },
  "language_info": {
   "codemirror_mode": {
    "name": "ipython",
    "version": 3
   },
   "file_extension": ".py",
   "mimetype": "text/x-python",
   "name": "python",
   "nbconvert_exporter": "python",
   "pygments_lexer": "ipython3",
   "version": "3.6.2"
  }
 },
 "nbformat": 4,
 "nbformat_minor": 2
}
